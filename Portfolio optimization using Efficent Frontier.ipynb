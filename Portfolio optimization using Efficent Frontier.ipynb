{
 "cells": [
  {
   "cell_type": "code",
   "execution_count": 3,
   "id": "353f67d7",
   "metadata": {},
   "outputs": [],
   "source": [
    "#Modern Portfolio Theory\n",
    "#also known as mean-variance analyse, is a mathematical process which allows the user to maximize returns for \n",
    "#a given risk level\n",
    "\n",
    "\n",
    "#Efficient frontier \n",
    "#is a graph with ‘returns’ on the Y-axis and ‘volatility’ on the X-axis.\n",
    "#It shows the set of optimal portfolios that offer the highest expected return for \n",
    "#a given risk level or the lowest risk for a given level of expected return.\n",
    "\n",
    "#Portfolios that lie outside the efficient frontier are sub-optimal because they do not provide either enough return \n",
    "#for the level of risk or have a higher risk for the defined rate of return."
   ]
  },
  {
   "cell_type": "code",
   "execution_count": 4,
   "id": "7ed88ae4",
   "metadata": {},
   "outputs": [],
   "source": [
    "import pandas as pd\n",
    "import numpy as np\n",
    "import matplotlib.pyplot as plt \n",
    "%matplotlib inline\n",
    "import seaborn\n",
    "import warnings\n",
    "warnings.filterwarnings(\"ignore\")\n",
    "\n",
    "# yahoo finance is used to fetch data\n",
    "import yfinance as yf\n",
    "\n",
    "from sklearn.metrics import mean_squared_error\n",
    "from sklearn.model_selection import train_test_split\n",
    "\n",
    "# Creating  a linear regression model\n",
    "from sklearn.linear_model import LinearRegression\n",
    "\n",
    "from pmdarima import auto_arima"
   ]
  },
  {
   "cell_type": "code",
   "execution_count": 25,
   "id": "d2566025",
   "metadata": {},
   "outputs": [
    {
     "name": "stdout",
     "output_type": "stream",
     "text": [
      "[*********************100%***********************]  1 of 1 completed\n"
     ]
    }
   ],
   "source": [
    "fb = yf.download('FB','2018-01-01','2021-10-11')"
   ]
  },
  {
   "cell_type": "code",
   "execution_count": 26,
   "id": "cc95d425",
   "metadata": {},
   "outputs": [
    {
     "name": "stdout",
     "output_type": "stream",
     "text": [
      "[*********************100%***********************]  1 of 1 completed\n"
     ]
    }
   ],
   "source": [
    "tesla=yf.download('TSLA','2018-01-01','2021-10-11')"
   ]
  },
  {
   "cell_type": "code",
   "execution_count": 27,
   "id": "38a33d5a",
   "metadata": {},
   "outputs": [
    {
     "data": {
      "text/html": [
       "<div>\n",
       "<style scoped>\n",
       "    .dataframe tbody tr th:only-of-type {\n",
       "        vertical-align: middle;\n",
       "    }\n",
       "\n",
       "    .dataframe tbody tr th {\n",
       "        vertical-align: top;\n",
       "    }\n",
       "\n",
       "    .dataframe thead th {\n",
       "        text-align: right;\n",
       "    }\n",
       "</style>\n",
       "<table border=\"1\" class=\"dataframe\">\n",
       "  <thead>\n",
       "    <tr style=\"text-align: right;\">\n",
       "      <th></th>\n",
       "      <th>Adj Close</th>\n",
       "    </tr>\n",
       "    <tr>\n",
       "      <th>Date</th>\n",
       "      <th></th>\n",
       "    </tr>\n",
       "  </thead>\n",
       "  <tbody>\n",
       "    <tr>\n",
       "      <th>2018-01-02</th>\n",
       "      <td>181.419998</td>\n",
       "    </tr>\n",
       "    <tr>\n",
       "      <th>2018-01-03</th>\n",
       "      <td>184.669998</td>\n",
       "    </tr>\n",
       "    <tr>\n",
       "      <th>2018-01-04</th>\n",
       "      <td>184.330002</td>\n",
       "    </tr>\n",
       "    <tr>\n",
       "      <th>2018-01-05</th>\n",
       "      <td>186.850006</td>\n",
       "    </tr>\n",
       "    <tr>\n",
       "      <th>2018-01-08</th>\n",
       "      <td>188.279999</td>\n",
       "    </tr>\n",
       "  </tbody>\n",
       "</table>\n",
       "</div>"
      ],
      "text/plain": [
       "             Adj Close\n",
       "Date                  \n",
       "2018-01-02  181.419998\n",
       "2018-01-03  184.669998\n",
       "2018-01-04  184.330002\n",
       "2018-01-05  186.850006\n",
       "2018-01-08  188.279999"
      ]
     },
     "execution_count": 27,
     "metadata": {},
     "output_type": "execute_result"
    }
   ],
   "source": [
    "fb[['Adj Close']].head()\n"
   ]
  },
  {
   "cell_type": "code",
   "execution_count": 28,
   "id": "d7fad67f",
   "metadata": {},
   "outputs": [],
   "source": [
    "df= pd.DataFrame()"
   ]
  },
  {
   "cell_type": "code",
   "execution_count": 29,
   "id": "b3b596e4",
   "metadata": {},
   "outputs": [],
   "source": [
    "df['FB']=fb['Adj Close']"
   ]
  },
  {
   "cell_type": "code",
   "execution_count": 30,
   "id": "463c722b",
   "metadata": {},
   "outputs": [],
   "source": [
    "df['TESL']=tesla['Adj Close']"
   ]
  },
  {
   "cell_type": "code",
   "execution_count": 31,
   "id": "6a83636b",
   "metadata": {},
   "outputs": [
    {
     "data": {
      "text/html": [
       "<div>\n",
       "<style scoped>\n",
       "    .dataframe tbody tr th:only-of-type {\n",
       "        vertical-align: middle;\n",
       "    }\n",
       "\n",
       "    .dataframe tbody tr th {\n",
       "        vertical-align: top;\n",
       "    }\n",
       "\n",
       "    .dataframe thead th {\n",
       "        text-align: right;\n",
       "    }\n",
       "</style>\n",
       "<table border=\"1\" class=\"dataframe\">\n",
       "  <thead>\n",
       "    <tr style=\"text-align: right;\">\n",
       "      <th></th>\n",
       "      <th>FB</th>\n",
       "      <th>TESL</th>\n",
       "    </tr>\n",
       "    <tr>\n",
       "      <th>Date</th>\n",
       "      <th></th>\n",
       "      <th></th>\n",
       "    </tr>\n",
       "  </thead>\n",
       "  <tbody>\n",
       "    <tr>\n",
       "      <th>2018-01-02</th>\n",
       "      <td>181.419998</td>\n",
       "      <td>64.106003</td>\n",
       "    </tr>\n",
       "    <tr>\n",
       "      <th>2018-01-03</th>\n",
       "      <td>184.669998</td>\n",
       "      <td>63.450001</td>\n",
       "    </tr>\n",
       "    <tr>\n",
       "      <th>2018-01-04</th>\n",
       "      <td>184.330002</td>\n",
       "      <td>62.924000</td>\n",
       "    </tr>\n",
       "    <tr>\n",
       "      <th>2018-01-05</th>\n",
       "      <td>186.850006</td>\n",
       "      <td>63.316002</td>\n",
       "    </tr>\n",
       "    <tr>\n",
       "      <th>2018-01-08</th>\n",
       "      <td>188.279999</td>\n",
       "      <td>67.281998</td>\n",
       "    </tr>\n",
       "  </tbody>\n",
       "</table>\n",
       "</div>"
      ],
      "text/plain": [
       "                    FB       TESL\n",
       "Date                             \n",
       "2018-01-02  181.419998  64.106003\n",
       "2018-01-03  184.669998  63.450001\n",
       "2018-01-04  184.330002  62.924000\n",
       "2018-01-05  186.850006  63.316002\n",
       "2018-01-08  188.279999  67.281998"
      ]
     },
     "execution_count": 31,
     "metadata": {},
     "output_type": "execute_result"
    }
   ],
   "source": [
    "df.head()"
   ]
  },
  {
   "cell_type": "code",
   "execution_count": 32,
   "id": "27767791",
   "metadata": {},
   "outputs": [
    {
     "data": {
      "text/plain": [
       "FB      0\n",
       "TESL    0\n",
       "dtype: int64"
      ]
     },
     "execution_count": 32,
     "metadata": {},
     "output_type": "execute_result"
    }
   ],
   "source": [
    "df.isna().sum()"
   ]
  },
  {
   "cell_type": "code",
   "execution_count": 33,
   "id": "0bd4dc9a",
   "metadata": {},
   "outputs": [
    {
     "data": {
      "text/plain": [
       "(950, 2)"
      ]
     },
     "execution_count": 33,
     "metadata": {},
     "output_type": "execute_result"
    }
   ],
   "source": [
    "df.shape"
   ]
  },
  {
   "cell_type": "code",
   "execution_count": 42,
   "id": "1cc18747",
   "metadata": {},
   "outputs": [],
   "source": [
    "#Calculate percentage change in stock prices\n",
    "tesla_df=df['TESL'].pct_change().apply(lambda x:np.log(1+x))"
   ]
  },
  {
   "cell_type": "code",
   "execution_count": 43,
   "id": "e0d77462",
   "metadata": {},
   "outputs": [
    {
     "data": {
      "text/plain": [
       "Date\n",
       "2018-01-02         NaN\n",
       "2018-01-03   -0.010286\n",
       "2018-01-04   -0.008325\n",
       "2018-01-05    0.006210\n",
       "2018-01-08    0.060755\n",
       "Name: TESL, dtype: float64"
      ]
     },
     "execution_count": 43,
     "metadata": {},
     "output_type": "execute_result"
    }
   ],
   "source": [
    "tesla_df.head()"
   ]
  },
  {
   "cell_type": "code",
   "execution_count": 44,
   "id": "ae5177c4",
   "metadata": {},
   "outputs": [],
   "source": [
    "#The variance in prices of stocks of Tesla are an important indicator\n",
    "#of how volatile this investment will be (how returns can fluctuate)."
   ]
  },
  {
   "cell_type": "code",
   "execution_count": 45,
   "id": "4d106974",
   "metadata": {},
   "outputs": [],
   "source": [
    "var_tesla=tesla_df.var()"
   ]
  },
  {
   "cell_type": "code",
   "execution_count": 46,
   "id": "f5a22e96",
   "metadata": {},
   "outputs": [
    {
     "data": {
      "text/plain": [
       "0.0016767258836135228"
      ]
     },
     "execution_count": 46,
     "metadata": {},
     "output_type": "execute_result"
    }
   ],
   "source": [
    "var_tesla"
   ]
  },
  {
   "cell_type": "code",
   "execution_count": 48,
   "id": "ee320941",
   "metadata": {},
   "outputs": [],
   "source": [
    "#Calculate percentage change in stock prices\n",
    "fb_df=df['FB'].pct_change().apply(lambda x:np.log(1+x))"
   ]
  },
  {
   "cell_type": "code",
   "execution_count": 49,
   "id": "5abcbf9b",
   "metadata": {},
   "outputs": [
    {
     "data": {
      "text/plain": [
       "Date\n",
       "2018-01-02         NaN\n",
       "2018-01-03    0.017756\n",
       "2018-01-04   -0.001843\n",
       "2018-01-05    0.013579\n",
       "2018-01-08    0.007624\n",
       "Name: FB, dtype: float64"
      ]
     },
     "execution_count": 49,
     "metadata": {},
     "output_type": "execute_result"
    }
   ],
   "source": [
    "fb_df.head()"
   ]
  },
  {
   "cell_type": "code",
   "execution_count": 50,
   "id": "e2f4acda",
   "metadata": {},
   "outputs": [
    {
     "data": {
      "text/plain": [
       "0.0005333697349799156"
      ]
     },
     "execution_count": 50,
     "metadata": {},
     "output_type": "execute_result"
    }
   ],
   "source": [
    "# Variance\n",
    "var_fb = fb_df.var()\n",
    "var_fb"
   ]
  },
  {
   "cell_type": "code",
   "execution_count": null,
   "id": "4e8b6b2f",
   "metadata": {},
   "outputs": [],
   "source": [
    "#Volatility\n",
    "#is measured as the standard deviation of a company’s stock."
   ]
  },
  {
   "cell_type": "code",
   "execution_count": 51,
   "id": "b121aa6a",
   "metadata": {},
   "outputs": [],
   "source": [
    "tesla_vol=np.sqrt(var_tesla*250)\n",
    "fb_vol = np.sqrt(var_fb * 250)"
   ]
  },
  {
   "cell_type": "code",
   "execution_count": 55,
   "id": "3c72d82a",
   "metadata": {},
   "outputs": [],
   "source": [
    "test=pd.DataFrame()"
   ]
  },
  {
   "cell_type": "code",
   "execution_count": 56,
   "id": "f98fc968",
   "metadata": {},
   "outputs": [],
   "source": [
    "test['Value']=0"
   ]
  },
  {
   "cell_type": "code",
   "execution_count": 57,
   "id": "6bcd1d26",
   "metadata": {},
   "outputs": [],
   "source": [
    "test['Value']=(tesla_vol,fb_vol)"
   ]
  },
  {
   "cell_type": "code",
   "execution_count": 58,
   "id": "a292bb0d",
   "metadata": {},
   "outputs": [
    {
     "data": {
      "text/html": [
       "<div>\n",
       "<style scoped>\n",
       "    .dataframe tbody tr th:only-of-type {\n",
       "        vertical-align: middle;\n",
       "    }\n",
       "\n",
       "    .dataframe tbody tr th {\n",
       "        vertical-align: top;\n",
       "    }\n",
       "\n",
       "    .dataframe thead th {\n",
       "        text-align: right;\n",
       "    }\n",
       "</style>\n",
       "<table border=\"1\" class=\"dataframe\">\n",
       "  <thead>\n",
       "    <tr style=\"text-align: right;\">\n",
       "      <th></th>\n",
       "      <th>Value</th>\n",
       "    </tr>\n",
       "  </thead>\n",
       "  <tbody>\n",
       "    <tr>\n",
       "      <th>0</th>\n",
       "      <td>0.647442</td>\n",
       "    </tr>\n",
       "    <tr>\n",
       "      <th>1</th>\n",
       "      <td>0.365161</td>\n",
       "    </tr>\n",
       "  </tbody>\n",
       "</table>\n",
       "</div>"
      ],
      "text/plain": [
       "      Value\n",
       "0  0.647442\n",
       "1  0.365161"
      ]
     },
     "execution_count": 58,
     "metadata": {},
     "output_type": "execute_result"
    }
   ],
   "source": [
    "test.head()"
   ]
  },
  {
   "cell_type": "code",
   "execution_count": 61,
   "id": "b118f50d",
   "metadata": {},
   "outputs": [],
   "source": [
    "test.columns=['Volatile']"
   ]
  },
  {
   "cell_type": "code",
   "execution_count": null,
   "id": "fa262250",
   "metadata": {},
   "outputs": [],
   "source": [
    "#Covariance measures the directional relationship between the returns on two assets."
   ]
  },
  {
   "cell_type": "code",
   "execution_count": 63,
   "id": "a154b06d",
   "metadata": {},
   "outputs": [],
   "source": [
    "test1=df.pct_change().apply(lambda x:np.log(1+x))"
   ]
  },
  {
   "cell_type": "code",
   "execution_count": 64,
   "id": "e86b2818",
   "metadata": {},
   "outputs": [
    {
     "data": {
      "text/html": [
       "<div>\n",
       "<style scoped>\n",
       "    .dataframe tbody tr th:only-of-type {\n",
       "        vertical-align: middle;\n",
       "    }\n",
       "\n",
       "    .dataframe tbody tr th {\n",
       "        vertical-align: top;\n",
       "    }\n",
       "\n",
       "    .dataframe thead th {\n",
       "        text-align: right;\n",
       "    }\n",
       "</style>\n",
       "<table border=\"1\" class=\"dataframe\">\n",
       "  <thead>\n",
       "    <tr style=\"text-align: right;\">\n",
       "      <th></th>\n",
       "      <th>FB</th>\n",
       "      <th>TESL</th>\n",
       "    </tr>\n",
       "    <tr>\n",
       "      <th>Date</th>\n",
       "      <th></th>\n",
       "      <th></th>\n",
       "    </tr>\n",
       "  </thead>\n",
       "  <tbody>\n",
       "    <tr>\n",
       "      <th>2018-01-02</th>\n",
       "      <td>NaN</td>\n",
       "      <td>NaN</td>\n",
       "    </tr>\n",
       "    <tr>\n",
       "      <th>2018-01-03</th>\n",
       "      <td>0.017756</td>\n",
       "      <td>-0.010286</td>\n",
       "    </tr>\n",
       "    <tr>\n",
       "      <th>2018-01-04</th>\n",
       "      <td>-0.001843</td>\n",
       "      <td>-0.008325</td>\n",
       "    </tr>\n",
       "    <tr>\n",
       "      <th>2018-01-05</th>\n",
       "      <td>0.013579</td>\n",
       "      <td>0.006210</td>\n",
       "    </tr>\n",
       "    <tr>\n",
       "      <th>2018-01-08</th>\n",
       "      <td>0.007624</td>\n",
       "      <td>0.060755</td>\n",
       "    </tr>\n",
       "  </tbody>\n",
       "</table>\n",
       "</div>"
      ],
      "text/plain": [
       "                  FB      TESL\n",
       "Date                          \n",
       "2018-01-02       NaN       NaN\n",
       "2018-01-03  0.017756 -0.010286\n",
       "2018-01-04 -0.001843 -0.008325\n",
       "2018-01-05  0.013579  0.006210\n",
       "2018-01-08  0.007624  0.060755"
      ]
     },
     "execution_count": 64,
     "metadata": {},
     "output_type": "execute_result"
    }
   ],
   "source": [
    "test1.head()"
   ]
  },
  {
   "cell_type": "code",
   "execution_count": 66,
   "id": "f1721191",
   "metadata": {},
   "outputs": [
    {
     "data": {
      "text/plain": [
       "0.00031887824254016686"
      ]
     },
     "execution_count": 66,
     "metadata": {},
     "output_type": "execute_result"
    }
   ],
   "source": [
    "test1['TESL'].cov(test1['FB'])"
   ]
  },
  {
   "cell_type": "code",
   "execution_count": null,
   "id": "b5555db0",
   "metadata": {},
   "outputs": [],
   "source": [
    "#Correlation, in the finance and investment industries, \n",
    "#is a statistic that measures the degree to which two securities move in relation to each other. \n",
    "#Correlations are used in advanced portfolio management, computed as the correlation coefficient, \n",
    "#which has a value that must fall between -1.0 and +1.0."
   ]
  },
  {
   "cell_type": "code",
   "execution_count": 67,
   "id": "9fda8148",
   "metadata": {},
   "outputs": [
    {
     "data": {
      "text/plain": [
       "0.337193868668146"
      ]
     },
     "execution_count": 67,
     "metadata": {},
     "output_type": "execute_result"
    }
   ],
   "source": [
    "test1['TESL'].corr(test1['FB'])"
   ]
  },
  {
   "cell_type": "code",
   "execution_count": null,
   "id": "32545c8a",
   "metadata": {},
   "outputs": [],
   "source": [
    "#Expected returns of an asset are simply the mean of percentage change in its stock prices. \n",
    "#So, the value of expected return we obtain here are daily expected returns.\n",
    "\n",
    "#For an yearly expected return value, you will need to resample the data year-wise, as you will see further.\n",
    "\n",
    "#For expected returns, you need to define weights for the assets choosen."
   ]
  },
  {
   "cell_type": "code",
   "execution_count": 69,
   "id": "f646c72c",
   "metadata": {},
   "outputs": [
    {
     "data": {
      "text/html": [
       "<div>\n",
       "<style scoped>\n",
       "    .dataframe tbody tr th:only-of-type {\n",
       "        vertical-align: middle;\n",
       "    }\n",
       "\n",
       "    .dataframe tbody tr th {\n",
       "        vertical-align: top;\n",
       "    }\n",
       "\n",
       "    .dataframe thead th {\n",
       "        text-align: right;\n",
       "    }\n",
       "</style>\n",
       "<table border=\"1\" class=\"dataframe\">\n",
       "  <thead>\n",
       "    <tr style=\"text-align: right;\">\n",
       "      <th></th>\n",
       "      <th>FB</th>\n",
       "      <th>TESL</th>\n",
       "    </tr>\n",
       "    <tr>\n",
       "      <th>Date</th>\n",
       "      <th></th>\n",
       "      <th></th>\n",
       "    </tr>\n",
       "  </thead>\n",
       "  <tbody>\n",
       "    <tr>\n",
       "      <th>2018-01-02</th>\n",
       "      <td>NaN</td>\n",
       "      <td>NaN</td>\n",
       "    </tr>\n",
       "    <tr>\n",
       "      <th>2018-01-03</th>\n",
       "      <td>0.017756</td>\n",
       "      <td>-0.010286</td>\n",
       "    </tr>\n",
       "    <tr>\n",
       "      <th>2018-01-04</th>\n",
       "      <td>-0.001843</td>\n",
       "      <td>-0.008325</td>\n",
       "    </tr>\n",
       "    <tr>\n",
       "      <th>2018-01-05</th>\n",
       "      <td>0.013579</td>\n",
       "      <td>0.006210</td>\n",
       "    </tr>\n",
       "    <tr>\n",
       "      <th>2018-01-08</th>\n",
       "      <td>0.007624</td>\n",
       "      <td>0.060755</td>\n",
       "    </tr>\n",
       "  </tbody>\n",
       "</table>\n",
       "</div>"
      ],
      "text/plain": [
       "                  FB      TESL\n",
       "Date                          \n",
       "2018-01-02       NaN       NaN\n",
       "2018-01-03  0.017756 -0.010286\n",
       "2018-01-04 -0.001843 -0.008325\n",
       "2018-01-05  0.013579  0.006210\n",
       "2018-01-08  0.007624  0.060755"
      ]
     },
     "execution_count": 69,
     "metadata": {},
     "output_type": "execute_result"
    }
   ],
   "source": [
    "test2 = df.pct_change().apply(lambda x: np.log(1+x))\n",
    "test2.head()"
   ]
  },
  {
   "cell_type": "code",
   "execution_count": null,
   "id": "3fa0834b",
   "metadata": {},
   "outputs": [],
   "source": [
    "#Let’s define an array of random weights for the purpose of calculation. \n",
    "#These weights will represent the percentage allocation of investments between these two stocks.\n",
    "#They must add up to 1.\n",
    "\n",
    "#So, the problem of portfolio optimization is nothing but to find the optimal values of weights that\n",
    "#maximizes expected returns while minimizing the risk (standard deviation)."
   ]
  },
  {
   "cell_type": "code",
   "execution_count": 70,
   "id": "a462ab4e",
   "metadata": {},
   "outputs": [
    {
     "data": {
      "text/plain": [
       "FB      0.000631\n",
       "TESL    0.002640\n",
       "dtype: float64"
      ]
     },
     "execution_count": 70,
     "metadata": {},
     "output_type": "execute_result"
    }
   ],
   "source": [
    "w = [0.2, 0.8]\n",
    "e_r_ind = test2.mean()\n",
    "e_r_ind"
   ]
  },
  {
   "cell_type": "code",
   "execution_count": 71,
   "id": "94b357c2",
   "metadata": {},
   "outputs": [
    {
     "data": {
      "text/plain": [
       "0.0022384632614242676"
      ]
     },
     "execution_count": 71,
     "metadata": {},
     "output_type": "execute_result"
    }
   ],
   "source": [
    "e_r = (e_r_ind*w).sum()\n",
    "e_r"
   ]
  },
  {
   "cell_type": "code",
   "execution_count": 72,
   "id": "1ac812bf",
   "metadata": {},
   "outputs": [],
   "source": []
  },
  {
   "cell_type": "code",
   "execution_count": null,
   "id": "9b35258a",
   "metadata": {},
   "outputs": [],
   "source": []
  },
  {
   "cell_type": "code",
   "execution_count": null,
   "id": "faa2615e",
   "metadata": {},
   "outputs": [],
   "source": []
  },
  {
   "cell_type": "code",
   "execution_count": null,
   "id": "fcc7d152",
   "metadata": {},
   "outputs": [],
   "source": []
  },
  {
   "cell_type": "code",
   "execution_count": null,
   "id": "9f79385d",
   "metadata": {},
   "outputs": [],
   "source": []
  }
 ],
 "metadata": {
  "kernelspec": {
   "display_name": "Python 3",
   "language": "python",
   "name": "python3"
  },
  "language_info": {
   "codemirror_mode": {
    "name": "ipython",
    "version": 3
   },
   "file_extension": ".py",
   "mimetype": "text/x-python",
   "name": "python",
   "nbconvert_exporter": "python",
   "pygments_lexer": "ipython3",
   "version": "3.8.8"
  }
 },
 "nbformat": 4,
 "nbformat_minor": 5
}
